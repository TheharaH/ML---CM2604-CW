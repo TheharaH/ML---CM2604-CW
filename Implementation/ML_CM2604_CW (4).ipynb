{
  "nbformat": 4,
  "nbformat_minor": 0,
  "metadata": {
    "colab": {
      "provenance": []
    },
    "kernelspec": {
      "name": "python3",
      "display_name": "Python 3"
    },
    "language_info": {
      "name": "python"
    }
  },
  "cells": [
    {
      "cell_type": "markdown",
      "source": [
        "1.Load the Bank Full Data Set"
      ],
      "metadata": {
        "id": "E8efWaybVU9i"
      }
    },
    {
      "cell_type": "code",
      "source": [],
      "metadata": {
        "id": "xJr13TMMcmDl"
      },
      "execution_count": null,
      "outputs": []
    },
    {
      "cell_type": "code",
      "source": [
        "import pandas as pd\n",
        "\n",
        "filePath = '/content/bank-full.csv'\n",
        "rawData = pd.read_csv(filePath, header=None)"
      ],
      "metadata": {
        "id": "2YeaGKjhViPM"
      },
      "execution_count": 1,
      "outputs": []
    },
    {
      "cell_type": "markdown",
      "source": [
        "2.Split the data"
      ],
      "metadata": {
        "id": "MddZSoBxVr_v"
      }
    },
    {
      "cell_type": "code",
      "source": [
        "splitData = rawData[0].str.split(';', expand=True)\n",
        "\n",
        "splitData.columns = splitData.iloc[0]  # Set the first row as headers\n",
        "splitData = splitData[1:]  # Remove the first row because it's used as headers\n",
        "\n",
        "# Remove double quotes\n",
        "splitData = splitData.replace('\"', '', regex=True)\n",
        "splitData.columns = splitData.columns.str.replace('\"', '', regex=True)\n",
        "print(\"\\nFirst 5 rows:\")\n",
        "print(splitData.head())\n"
      ],
      "metadata": {
        "colab": {
          "base_uri": "https://localhost:8080/"
        },
        "id": "P5D131DsXO48",
        "outputId": "a8dd51d8-ac32-4037-cf0e-82d33050a0d3"
      },
      "execution_count": 2,
      "outputs": [
        {
          "output_type": "stream",
          "name": "stdout",
          "text": [
            "\n",
            "First 5 rows:\n",
            "0 age           job  marital  education default balance housing loan  contact  \\\n",
            "1  58    management  married   tertiary      no    2143     yes   no  unknown   \n",
            "2  44    technician   single  secondary      no      29     yes   no  unknown   \n",
            "3  33  entrepreneur  married  secondary      no       2     yes  yes  unknown   \n",
            "4  47   blue-collar  married    unknown      no    1506     yes   no  unknown   \n",
            "5  33       unknown   single    unknown      no       1      no   no  unknown   \n",
            "\n",
            "0 day month duration campaign pdays previous poutcome   y  \n",
            "1   5   may      261        1    -1        0  unknown  no  \n",
            "2   5   may      151        1    -1        0  unknown  no  \n",
            "3   5   may       76        1    -1        0  unknown  no  \n",
            "4   5   may       92        1    -1        0  unknown  no  \n",
            "5   5   may      198        1    -1        0  unknown  no  \n"
          ]
        }
      ]
    },
    {
      "cell_type": "markdown",
      "source": [
        "3. Check for missing values"
      ],
      "metadata": {
        "id": "dxSmTqOfjUB8"
      }
    },
    {
      "cell_type": "code",
      "source": [
        "missingValues = splitData.isnull().sum()\n",
        "print(\"Missing values per column:\\n\", missingValues)"
      ],
      "metadata": {
        "colab": {
          "base_uri": "https://localhost:8080/"
        },
        "id": "YuVscadnjW9T",
        "outputId": "0f7757ef-c186-457a-9ff3-b91dbd5d7e2a"
      },
      "execution_count": 3,
      "outputs": [
        {
          "output_type": "stream",
          "name": "stdout",
          "text": [
            "Missing values per column:\n",
            " 0\n",
            "age          0\n",
            "job          0\n",
            "marital      0\n",
            "education    0\n",
            "default      0\n",
            "balance      0\n",
            "housing      0\n",
            "loan         0\n",
            "contact      0\n",
            "day          0\n",
            "month        0\n",
            "duration     0\n",
            "campaign     0\n",
            "pdays        0\n",
            "previous     0\n",
            "poutcome     0\n",
            "y            0\n",
            "dtype: int64\n"
          ]
        }
      ]
    },
    {
      "cell_type": "markdown",
      "source": [
        "4.Capping outliers"
      ],
      "metadata": {
        "id": "qeh-e5v5raAR"
      }
    },
    {
      "cell_type": "code",
      "source": [
        "# Convert numeric columns to appropriate data types\n",
        "numericColumns = ['age', 'balance', 'day', 'duration', 'campaign', 'pdays', 'previous']\n",
        "splitData[numericColumns] = splitData[numericColumns].apply(pd.to_numeric)\n",
        "\n",
        "# Detect and handle outliers using the IQR method with capping\n",
        "def cap_outliers_iqr(df, numeric_columns):\n",
        "    for col in numeric_columns:\n",
        "        Q1 = df[col].quantile(0.25)\n",
        "        Q3 = df[col].quantile(0.75)\n",
        "        IQR = Q3 - Q1\n",
        "        lower_bound = Q1 - 1.5 * IQR\n",
        "        upper_bound = Q3 + 1.5 * IQR\n",
        "\n",
        "        # Cap the values\n",
        "        df[col] = df[col].apply(lambda x: lower_bound if x < lower_bound else (upper_bound if x > upper_bound else x))\n",
        "    return df\n",
        "\n",
        "SplitData = cap_outliers_iqr(splitData, numericColumns)"
      ],
      "metadata": {
        "id": "aaA7r9QJdftN"
      },
      "execution_count": 6,
      "outputs": []
    },
    {
      "cell_type": "markdown",
      "source": [
        "5.Converting the numeric columns to integers"
      ],
      "metadata": {
        "id": "zfE3BuCVc6zn"
      }
    },
    {
      "cell_type": "code",
      "source": [
        "# Convert numerical variables to integers\n",
        "splitData[numericColumns] = splitData[numericColumns].astype(int)\n",
        "\n",
        "print(\"\\nNumerical variables converted to integers:\")\n",
        "print(splitData.head())\n"
      ],
      "metadata": {
        "colab": {
          "base_uri": "https://localhost:8080/"
        },
        "id": "Z9Bls9t4dDSW",
        "outputId": "f89b32b7-dfa5-4e56-e7f7-a06df9754ad9"
      },
      "execution_count": 12,
      "outputs": [
        {
          "output_type": "stream",
          "name": "stdout",
          "text": [
            "\n",
            "Numerical variables converted to integers:\n",
            "0  age           job  marital  education default  balance housing loan  \\\n",
            "1   58    management  married   tertiary      no     2143     yes   no   \n",
            "2   44    technician   single  secondary      no       29     yes   no   \n",
            "3   33  entrepreneur  married  secondary      no        2     yes  yes   \n",
            "4   47   blue-collar  married    unknown      no     1506     yes   no   \n",
            "5   33       unknown   single    unknown      no        1      no   no   \n",
            "\n",
            "0  contact  day month  duration  campaign  pdays  previous poutcome   y  \n",
            "1  unknown    5   may       261         1     -1         0  unknown  no  \n",
            "2  unknown    5   may       151         1     -1         0  unknown  no  \n",
            "3  unknown    5   may        76         1     -1         0  unknown  no  \n",
            "4  unknown    5   may        92         1     -1         0  unknown  no  \n",
            "5  unknown    5   may       198         1     -1         0  unknown  no  \n"
          ]
        }
      ]
    }
  ]
}