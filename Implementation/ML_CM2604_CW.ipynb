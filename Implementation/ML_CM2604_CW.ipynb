{
  "nbformat": 4,
  "nbformat_minor": 0,
  "metadata": {
    "colab": {
      "provenance": []
    },
    "kernelspec": {
      "name": "python3",
      "display_name": "Python 3"
    },
    "language_info": {
      "name": "python"
    }
  },
  "cells": [
    {
      "cell_type": "markdown",
      "source": [
        "1.Load the Bank Full Data Set"
      ],
      "metadata": {
        "id": "E8efWaybVU9i"
      }
    },
    {
      "cell_type": "code",
      "source": [
        "import pandas as pd\n",
        "\n",
        "filePath = '/content/bank-full.csv'\n",
        "rawData = pd.read_csv(filePath, header=None)"
      ],
      "metadata": {
        "id": "2YeaGKjhViPM"
      },
      "execution_count": 1,
      "outputs": []
    },
    {
      "cell_type": "markdown",
      "source": [
        "2.Split the data"
      ],
      "metadata": {
        "id": "MddZSoBxVr_v"
      }
    },
    {
      "cell_type": "code",
      "source": [
        "splitData = rawData[0].str.split(';', expand=True)\n",
        "\n",
        "splitData.columns = splitData.iloc[0]  # Set the first row as headers\n",
        "splitData = splitData[1:]  # Remove the first row because it's used as headers\n",
        "\n",
        "# Remove double quotes\n",
        "splitData = splitData.replace('\"', '', regex=True)\n",
        "splitData.columns = splitData.columns.str.replace('\"', '', regex=True)\n",
        "print(\"\\nFirst 5 rows:\")\n",
        "print(splitData.head())\n"
      ],
      "metadata": {
        "colab": {
          "base_uri": "https://localhost:8080/"
        },
        "id": "P5D131DsXO48",
        "outputId": "029a3f4b-9bfe-4850-debf-d9fc8ca6a8e2"
      },
      "execution_count": 3,
      "outputs": [
        {
          "output_type": "stream",
          "name": "stdout",
          "text": [
            "\n",
            "First 5 rows:\n",
            "0 age           job  marital  education default balance housing loan  contact  \\\n",
            "1  58    management  married   tertiary      no    2143     yes   no  unknown   \n",
            "2  44    technician   single  secondary      no      29     yes   no  unknown   \n",
            "3  33  entrepreneur  married  secondary      no       2     yes  yes  unknown   \n",
            "4  47   blue-collar  married    unknown      no    1506     yes   no  unknown   \n",
            "5  33       unknown   single    unknown      no       1      no   no  unknown   \n",
            "\n",
            "0 day month duration campaign pdays previous poutcome   y  \n",
            "1   5   may      261        1    -1        0  unknown  no  \n",
            "2   5   may      151        1    -1        0  unknown  no  \n",
            "3   5   may       76        1    -1        0  unknown  no  \n",
            "4   5   may       92        1    -1        0  unknown  no  \n",
            "5   5   may      198        1    -1        0  unknown  no  \n"
          ]
        }
      ]
    }
  ]
}