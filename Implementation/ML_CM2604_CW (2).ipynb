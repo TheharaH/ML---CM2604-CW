{
  "nbformat": 4,
  "nbformat_minor": 0,
  "metadata": {
    "colab": {
      "provenance": []
    },
    "kernelspec": {
      "name": "python3",
      "display_name": "Python 3"
    },
    "language_info": {
      "name": "python"
    }
  },
  "cells": [
    {
      "cell_type": "markdown",
      "source": [
        "1.Load the Bank Full Data Set"
      ],
      "metadata": {
        "id": "E8efWaybVU9i"
      }
    },
    {
      "cell_type": "code",
      "source": [
        "import pandas as pd\n",
        "\n",
        "filePath = '/content/bank-full.csv'\n",
        "rawData = pd.read_csv(filePath, header=None)"
      ],
      "metadata": {
        "id": "2YeaGKjhViPM"
      },
      "execution_count": null,
      "outputs": []
    },
    {
      "cell_type": "markdown",
      "source": [
        "2.Split the data"
      ],
      "metadata": {
        "id": "MddZSoBxVr_v"
      }
    },
    {
      "cell_type": "code",
      "source": [
        "splitData = rawData[0].str.split(';', expand=True)\n",
        "\n",
        "splitData.columns = splitData.iloc[0]  # Set the first row as headers\n",
        "splitData = splitData[1:]  # Remove the first row because it's used as headers\n",
        "\n",
        "# Remove double quotes\n",
        "splitData = splitData.replace('\"', '', regex=True)\n",
        "splitData.columns = splitData.columns.str.replace('\"', '', regex=True)\n",
        "print(\"\\nFirst 5 rows:\")\n",
        "print(splitData.head())\n"
      ],
      "metadata": {
        "colab": {
          "base_uri": "https://localhost:8080/"
        },
        "id": "P5D131DsXO48",
        "outputId": "4740bb18-2f19-4ca8-bc24-144612333646"
      },
      "execution_count": null,
      "outputs": [
        {
          "output_type": "stream",
          "name": "stdout",
          "text": [
            "\n",
            "First 5 rows:\n",
            "0 age           job  marital  education default balance housing loan  contact  \\\n",
            "1  58    management  married   tertiary      no    2143     yes   no  unknown   \n",
            "2  44    technician   single  secondary      no      29     yes   no  unknown   \n",
            "3  33  entrepreneur  married  secondary      no       2     yes  yes  unknown   \n",
            "4  47   blue-collar  married    unknown      no    1506     yes   no  unknown   \n",
            "5  33       unknown   single    unknown      no       1      no   no  unknown   \n",
            "\n",
            "0 day month duration campaign pdays previous poutcome   y  \n",
            "1   5   may      261        1    -1        0  unknown  no  \n",
            "2   5   may      151        1    -1        0  unknown  no  \n",
            "3   5   may       76        1    -1        0  unknown  no  \n",
            "4   5   may       92        1    -1        0  unknown  no  \n",
            "5   5   may      198        1    -1        0  unknown  no  \n"
          ]
        }
      ]
    },
    {
      "cell_type": "markdown",
      "source": [
        "3. Check for missing values"
      ],
      "metadata": {
        "id": "dxSmTqOfjUB8"
      }
    },
    {
      "cell_type": "code",
      "source": [
        "missingValues = splitData.isnull().sum()\n",
        "print(\"Missing values per column:\\n\", missingValues)"
      ],
      "metadata": {
        "colab": {
          "base_uri": "https://localhost:8080/"
        },
        "id": "YuVscadnjW9T",
        "outputId": "17ea13df-b357-43b8-aeed-c048c1e9adcd"
      },
      "execution_count": null,
      "outputs": [
        {
          "output_type": "stream",
          "name": "stdout",
          "text": [
            "Missing values per column:\n",
            " 0\n",
            "age          0\n",
            "job          0\n",
            "marital      0\n",
            "education    0\n",
            "default      0\n",
            "balance      0\n",
            "housing      0\n",
            "loan         0\n",
            "contact      0\n",
            "day          0\n",
            "month        0\n",
            "duration     0\n",
            "campaign     0\n",
            "pdays        0\n",
            "previous     0\n",
            "poutcome     0\n",
            "y            0\n",
            "dtype: int64\n"
          ]
        }
      ]
    },
    {
      "cell_type": "markdown",
      "source": [
        "4.Checking for 'none\" values"
      ],
      "metadata": {
        "id": "feFTI3P9zCV9"
      }
    },
    {
      "cell_type": "code",
      "source": [
        "#Check for occurrences of \"None\" in each column\n",
        "noneCounts = splitData.isin(['none']).sum()\n",
        "\n",
        "# Display results\n",
        "print(\"\\nOccurrences of 'none' in each column:\")\n",
        "print(pd.DataFrame({'Count': noneCounts}))"
      ],
      "metadata": {
        "colab": {
          "base_uri": "https://localhost:8080/"
        },
        "id": "_JSbe-u5yS1T",
        "outputId": "87c8deb6-dcac-454b-b5d2-66c5a3c23a11"
      },
      "execution_count": null,
      "outputs": [
        {
          "output_type": "stream",
          "name": "stdout",
          "text": [
            "\n",
            "Occurrences of 'none' in each column:\n",
            "           Count\n",
            "0               \n",
            "age            0\n",
            "job            0\n",
            "marital        0\n",
            "education      0\n",
            "default        0\n",
            "balance        0\n",
            "housing        0\n",
            "loan           0\n",
            "contact        0\n",
            "day            0\n",
            "month          0\n",
            "duration       0\n",
            "campaign       0\n",
            "pdays          0\n",
            "previous       0\n",
            "poutcome       0\n",
            "y              0\n"
          ]
        }
      ]
    },
    {
      "cell_type": "markdown",
      "source": [
        "4.Capping outliers"
      ],
      "metadata": {
        "id": "qeh-e5v5raAR"
      }
    },
    {
      "cell_type": "code",
      "source": [
        "import numpy as np\n",
        "\n",
        "# Convert numeric columns to appropriate data types\n",
        "numericColumns = ['age', 'balance', 'day', 'duration', 'campaign', 'pdays', 'previous']\n",
        "splitData[numericColumns] = splitData[numericColumns].apply(pd.to_numeric)\n",
        "\n",
        "# Detect and handle outliers using the IQR method with capping\n",
        "def cap_outliers_iqr(df, numeric_columns):\n",
        "    for col in numeric_columns:\n",
        "        Q1 = df[col].quantile(0.25)\n",
        "        Q3 = df[col].quantile(0.75)\n",
        "        IQR = Q3 - Q1\n",
        "        lower_bound = Q1 - 1.5 * IQR\n",
        "        upper_bound = Q3 + 1.5 * IQR\n",
        "\n",
        "        # Cap the values\n",
        "        df[col] = np.clip(df[col], lower_bound, upper_bound)\n",
        "    return df\n",
        "\n",
        "SplitData = cap_outliers_iqr(splitData, numericColumns)\n",
        "print(splitData.head())\n"
      ],
      "metadata": {
        "id": "aaA7r9QJdftN",
        "colab": {
          "base_uri": "https://localhost:8080/"
        },
        "outputId": "2aef7c98-5b00-4769-8869-38387ca1ec63"
      },
      "execution_count": null,
      "outputs": [
        {
          "output_type": "stream",
          "name": "stdout",
          "text": [
            "0   age           job  marital  education default  balance housing loan  \\\n",
            "1  58.0    management  married   tertiary      no     2143     yes   no   \n",
            "2  44.0    technician   single  secondary      no       29     yes   no   \n",
            "3  33.0  entrepreneur  married  secondary      no        2     yes  yes   \n",
            "4  47.0   blue-collar  married    unknown      no     1506     yes   no   \n",
            "5  33.0       unknown   single    unknown      no        1      no   no   \n",
            "\n",
            "0  contact  day month  duration  campaign  pdays  previous poutcome   y  \n",
            "1  unknown    5   may       261         1     -1         0  unknown  no  \n",
            "2  unknown    5   may       151         1     -1         0  unknown  no  \n",
            "3  unknown    5   may        76         1     -1         0  unknown  no  \n",
            "4  unknown    5   may        92         1     -1         0  unknown  no  \n",
            "5  unknown    5   may       198         1     -1         0  unknown  no  \n"
          ]
        }
      ]
    }
  ]
}